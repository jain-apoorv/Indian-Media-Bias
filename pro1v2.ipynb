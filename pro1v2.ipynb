{
 "cells": [
  {
   "cell_type": "code",
   "execution_count": 1,
   "id": "21962b77",
   "metadata": {},
   "outputs": [],
   "source": [
    "import pandas as pd\n",
    "\n",
    "df = pd.read_csv(\"mediaBiasv2.csv\")  \n"
   ]
  },
  {
   "cell_type": "code",
   "execution_count": 2,
   "id": "a9bba478",
   "metadata": {},
   "outputs": [
    {
     "data": {
      "text/html": [
       "<div>\n",
       "<style scoped>\n",
       "    .dataframe tbody tr th:only-of-type {\n",
       "        vertical-align: middle;\n",
       "    }\n",
       "\n",
       "    .dataframe tbody tr th {\n",
       "        vertical-align: top;\n",
       "    }\n",
       "\n",
       "    .dataframe thead th {\n",
       "        text-align: right;\n",
       "    }\n",
       "</style>\n",
       "<table border=\"1\" class=\"dataframe\">\n",
       "  <thead>\n",
       "    <tr style=\"text-align: right;\">\n",
       "      <th></th>\n",
       "      <th>Title</th>\n",
       "      <th>Link</th>\n",
       "      <th>Content</th>\n",
       "      <th>biased/unbiased</th>\n",
       "      <th>Biased Sentence</th>\n",
       "    </tr>\n",
       "  </thead>\n",
       "  <tbody>\n",
       "    <tr>\n",
       "      <th>0</th>\n",
       "      <td>ममता बनर्जी की TMC मुस्लिम वोटों पर कितना निर्...</td>\n",
       "      <td>https://www.aajtak.in/west-bengal/story/mamata...</td>\n",
       "      <td>पश्चिम बंगाल के मुर्शिदाबाद में वक्फ कानून के ...</td>\n",
       "      <td>unbiased</td>\n",
       "      <td>NaN</td>\n",
       "    </tr>\n",
       "    <tr>\n",
       "      <th>1</th>\n",
       "      <td>'कुनबे के करप्शन को क्रांत‍ि का तमगा देने की ल...</td>\n",
       "      <td>https://www.aajtak.in/india/news/video/mukhtar...</td>\n",
       "      <td>बीजेपी नेता मुख्तार अब्बास नकवी ने कहा कि पश्च...</td>\n",
       "      <td>unbiased</td>\n",
       "      <td>NaN</td>\n",
       "    </tr>\n",
       "    <tr>\n",
       "      <th>2</th>\n",
       "      <td>राहुल गांधी फिर गुजरात में, AAP ने भी कसी कमर ...</td>\n",
       "      <td>https://www.aajtak.in/opinion-analysis-/story/...</td>\n",
       "      <td>बिहार चुनाव पर तेजस्वी यादव और मल्लिकार्जुन खड...</td>\n",
       "      <td>unbiased</td>\n",
       "      <td>NaN</td>\n",
       "    </tr>\n",
       "    <tr>\n",
       "      <th>3</th>\n",
       "      <td>ममता बनर्जी ने क्‍यों बुलाया इमाम सम्‍मेलन? मु...</td>\n",
       "      <td>NaN</td>\n",
       "      <td>बंगाल में हुई हिंसा पर योगी आदित्यनाथ और ममता ...</td>\n",
       "      <td>unbiased</td>\n",
       "      <td>NaN</td>\n",
       "    </tr>\n",
       "    <tr>\n",
       "      <th>4</th>\n",
       "      <td>कांग्रेस का ईडी और बीजेपी के खिलाफ देशव्यापी प...</td>\n",
       "      <td>https://www.aajtak.in/india/news/video/nationw...</td>\n",
       "      <td>नेशनल हेराल्ड मामले में ईडी द्वारा राहुल गांधी...</td>\n",
       "      <td>biased</td>\n",
       "      <td>ममता बनर्जी स्पष्ट रूप से हिल गई हैं. जब उन्ह...</td>\n",
       "    </tr>\n",
       "    <tr>\n",
       "      <th>...</th>\n",
       "      <td>...</td>\n",
       "      <td>...</td>\n",
       "      <td>...</td>\n",
       "      <td>...</td>\n",
       "      <td>...</td>\n",
       "    </tr>\n",
       "    <tr>\n",
       "      <th>181</th>\n",
       "      <td>तेज रफ्तार बस ने कई लोगों को कुचला, 4 की मौत.....</td>\n",
       "      <td>https://www.punjabkesari.in/national/news/a-sp...</td>\n",
       "      <td>गुजरात के राजकोट शहर में बुधवार को स्थानीय नगर...</td>\n",
       "      <td>unbiased</td>\n",
       "      <td>NaN</td>\n",
       "    </tr>\n",
       "    <tr>\n",
       "      <th>182</th>\n",
       "      <td>IPL 2025 Points Table : पंजाब किंग्स ने KKR पर...</td>\n",
       "      <td>https://sports.punjabkesari.in/sports/news/pun...</td>\n",
       "      <td>स्पोर्ट्स डेस्क : पंजाब किंग्स ने मुल्लांपुर स...</td>\n",
       "      <td>unbiased</td>\n",
       "      <td>NaN</td>\n",
       "    </tr>\n",
       "    <tr>\n",
       "      <th>183</th>\n",
       "      <td>वंदे भारत में सेल्फी लेने चढ़ा युवक और ट्रेन क...</td>\n",
       "      <td>https://mp.punjabkesari.in/national/news/a-you...</td>\n",
       "      <td>वंदे भारत ट्रेन में फोटो खींचने चढ़े एक युवक क...</td>\n",
       "      <td>unbiased</td>\n",
       "      <td>NaN</td>\n",
       "    </tr>\n",
       "    <tr>\n",
       "      <th>184</th>\n",
       "      <td>नई नवेली दुल्हन ने दूल्हे का बेरहमी से किया कत...</td>\n",
       "      <td>https://www.punjabkesari.in/national/news/the-...</td>\n",
       "      <td>मध्य प्रदेश के बुरहानपुर से एक चौंकाने वाली घट...</td>\n",
       "      <td>unbiased</td>\n",
       "      <td>NaN</td>\n",
       "    </tr>\n",
       "    <tr>\n",
       "      <th>185</th>\n",
       "      <td>Petrol Price Cut: सस्ता होगा पेट्रोल-डीजल! कच्...</td>\n",
       "      <td>https://www.punjabkesari.in/national/news/pric...</td>\n",
       "      <td>भारत में कच्चे तेल की कीमतें लगातार गिर रही है...</td>\n",
       "      <td>unbiased</td>\n",
       "      <td>NaN</td>\n",
       "    </tr>\n",
       "  </tbody>\n",
       "</table>\n",
       "<p>186 rows × 5 columns</p>\n",
       "</div>"
      ],
      "text/plain": [
       "                                                 Title  \\\n",
       "0    ममता बनर्जी की TMC मुस्लिम वोटों पर कितना निर्...   \n",
       "1    'कुनबे के करप्शन को क्रांत‍ि का तमगा देने की ल...   \n",
       "2    राहुल गांधी फिर गुजरात में, AAP ने भी कसी कमर ...   \n",
       "3    ममता बनर्जी ने क्‍यों बुलाया इमाम सम्‍मेलन? मु...   \n",
       "4    कांग्रेस का ईडी और बीजेपी के खिलाफ देशव्यापी प...   \n",
       "..                                                 ...   \n",
       "181  तेज रफ्तार बस ने कई लोगों को कुचला, 4 की मौत.....   \n",
       "182  IPL 2025 Points Table : पंजाब किंग्स ने KKR पर...   \n",
       "183  वंदे भारत में सेल्फी लेने चढ़ा युवक और ट्रेन क...   \n",
       "184  नई नवेली दुल्हन ने दूल्हे का बेरहमी से किया कत...   \n",
       "185  Petrol Price Cut: सस्ता होगा पेट्रोल-डीजल! कच्...   \n",
       "\n",
       "                                                 Link   \\\n",
       "0    https://www.aajtak.in/west-bengal/story/mamata...   \n",
       "1    https://www.aajtak.in/india/news/video/mukhtar...   \n",
       "2    https://www.aajtak.in/opinion-analysis-/story/...   \n",
       "3                                                  NaN   \n",
       "4    https://www.aajtak.in/india/news/video/nationw...   \n",
       "..                                                 ...   \n",
       "181  https://www.punjabkesari.in/national/news/a-sp...   \n",
       "182  https://sports.punjabkesari.in/sports/news/pun...   \n",
       "183  https://mp.punjabkesari.in/national/news/a-you...   \n",
       "184  https://www.punjabkesari.in/national/news/the-...   \n",
       "185  https://www.punjabkesari.in/national/news/pric...   \n",
       "\n",
       "                                               Content biased/unbiased  \\\n",
       "0    पश्चिम बंगाल के मुर्शिदाबाद में वक्फ कानून के ...        unbiased   \n",
       "1    बीजेपी नेता मुख्तार अब्बास नकवी ने कहा कि पश्च...        unbiased   \n",
       "2    बिहार चुनाव पर तेजस्वी यादव और मल्लिकार्जुन खड...        unbiased   \n",
       "3    बंगाल में हुई हिंसा पर योगी आदित्यनाथ और ममता ...        unbiased   \n",
       "4    नेशनल हेराल्ड मामले में ईडी द्वारा राहुल गांधी...         biased    \n",
       "..                                                 ...             ...   \n",
       "181  गुजरात के राजकोट शहर में बुधवार को स्थानीय नगर...        unbiased   \n",
       "182  स्पोर्ट्स डेस्क : पंजाब किंग्स ने मुल्लांपुर स...        unbiased   \n",
       "183  वंदे भारत ट्रेन में फोटो खींचने चढ़े एक युवक क...        unbiased   \n",
       "184  मध्य प्रदेश के बुरहानपुर से एक चौंकाने वाली घट...        unbiased   \n",
       "185  भारत में कच्चे तेल की कीमतें लगातार गिर रही है...        unbiased   \n",
       "\n",
       "                                       Biased Sentence  \n",
       "0                                                  NaN  \n",
       "1                                                  NaN  \n",
       "2                                                  NaN  \n",
       "3                                                  NaN  \n",
       "4     ममता बनर्जी स्पष्ट रूप से हिल गई हैं. जब उन्ह...  \n",
       "..                                                 ...  \n",
       "181                                                NaN  \n",
       "182                                                NaN  \n",
       "183                                                NaN  \n",
       "184                                                NaN  \n",
       "185                                                NaN  \n",
       "\n",
       "[186 rows x 5 columns]"
      ]
     },
     "execution_count": 2,
     "metadata": {},
     "output_type": "execute_result"
    }
   ],
   "source": [
    "df"
   ]
  },
  {
   "cell_type": "code",
   "execution_count": 3,
   "id": "0ba9f795",
   "metadata": {},
   "outputs": [
    {
     "data": {
      "text/plain": [
       "Index(['Title', 'Link', 'Content', 'biased/unbiased', 'Biased Sentence'], dtype='object')"
      ]
     },
     "execution_count": 3,
     "metadata": {},
     "output_type": "execute_result"
    }
   ],
   "source": [
    "df.columns = df.columns.str.strip()\n",
    "\n",
    "df.columns"
   ]
  },
  {
   "cell_type": "code",
   "execution_count": 4,
   "id": "c5fd29f3",
   "metadata": {},
   "outputs": [
    {
     "data": {
      "text/plain": [
       "Index(['title', 'source_link', 'article_content', 'bias_label',\n",
       "       'biased_sentence'],\n",
       "      dtype='object')"
      ]
     },
     "execution_count": 4,
     "metadata": {},
     "output_type": "execute_result"
    }
   ],
   "source": [
    "\n",
    "\n",
    "\n",
    "df.rename(columns={\n",
    "    \"Title\": \"title\",\n",
    "    \"Link\": \"source_link\",\n",
    "    \"Content\": \"article_content\",\n",
    "    \"biased/unbiased\": \"bias_label\",\n",
    "    \"Biased Sentence\": \"biased_sentence\"\n",
    "}, inplace=True)\n",
    "\n",
    "df.columns\n"
   ]
  },
  {
   "cell_type": "code",
   "execution_count": 5,
   "id": "42eb891b",
   "metadata": {},
   "outputs": [],
   "source": [
    "import numpy as np\n",
    "df[\"biased_sentence\"] = df[\"biased_sentence\"].replace(\"none\", np.nan)"
   ]
  },
  {
   "cell_type": "code",
   "execution_count": 6,
   "id": "38ed9fc7",
   "metadata": {},
   "outputs": [
    {
     "name": "stdout",
     "output_type": "stream",
     "text": [
      "Missing values per column:\n",
      "title                0\n",
      "source_link          3\n",
      "article_content      0\n",
      "bias_label           0\n",
      "biased_sentence    153\n",
      "dtype: int64\n"
     ]
    }
   ],
   "source": [
    "\n",
    "print(\"Missing values per column:\")\n",
    "print(df.isnull().sum())\n"
   ]
  },
  {
   "cell_type": "code",
   "execution_count": 7,
   "id": "5962c58f",
   "metadata": {},
   "outputs": [
    {
     "name": "stdout",
     "output_type": "stream",
     "text": [
      "Missing values per column:\n",
      "title                0\n",
      "source_link          3\n",
      "article_content      0\n",
      "bias_label           0\n",
      "biased_sentence    153\n",
      "dtype: int64\n"
     ]
    }
   ],
   "source": [
    "# Remove rows where article_content is NaN or just whitespace\n",
    "df = df[df[\"article_content\"].notnull() & (df[\"article_content\"].str.strip() != \"\")]\n",
    "print(\"Missing values per column:\")\n",
    "print(df.isnull().sum())\n"
   ]
  },
  {
   "cell_type": "code",
   "execution_count": null,
   "id": "75361a60",
   "metadata": {},
   "outputs": [
    {
     "data": {
      "text/html": [
       "<div>\n",
       "<style scoped>\n",
       "    .dataframe tbody tr th:only-of-type {\n",
       "        vertical-align: middle;\n",
       "    }\n",
       "\n",
       "    .dataframe tbody tr th {\n",
       "        vertical-align: top;\n",
       "    }\n",
       "\n",
       "    .dataframe thead th {\n",
       "        text-align: right;\n",
       "    }\n",
       "</style>\n",
       "<table border=\"1\" class=\"dataframe\">\n",
       "  <thead>\n",
       "    <tr style=\"text-align: right;\">\n",
       "      <th></th>\n",
       "      <th>title</th>\n",
       "      <th>source_link</th>\n",
       "      <th>article_content</th>\n",
       "      <th>bias_label</th>\n",
       "      <th>biased_sentence</th>\n",
       "    </tr>\n",
       "  </thead>\n",
       "  <tbody>\n",
       "    <tr>\n",
       "      <th>3</th>\n",
       "      <td>ममता बनर्जी ने क्‍यों बुलाया इमाम सम्‍मेलन? मु...</td>\n",
       "      <td>NaN</td>\n",
       "      <td>बंगाल में हुई हिंसा पर योगी आदित्यनाथ और ममता ...</td>\n",
       "      <td>unbiased</td>\n",
       "      <td>NaN</td>\n",
       "    </tr>\n",
       "    <tr>\n",
       "      <th>8</th>\n",
       "      <td>बिहार चुनाव नजदीक आ रहा है, लेकिन नीतीश कुमार ...</td>\n",
       "      <td>NaN</td>\n",
       "      <td>\"25 से 30, फिर से नीतीश\" - ये स्लोगन पटना में ...</td>\n",
       "      <td>biased</td>\n",
       "      <td>लेकिन, ये दावा हकीकत से मेल नहीं खाता    ,  अब...</td>\n",
       "    </tr>\n",
       "    <tr>\n",
       "      <th>34</th>\n",
       "      <td>धर्म को हथियार बनाकर... निशिकांत दुबे के बयान ...</td>\n",
       "      <td>NaN</td>\n",
       "      <td>पूर्व मुख्य चुनाव आयुक्त एस.वाई. कुरैशी ने बीज...</td>\n",
       "      <td>biased</td>\n",
       "      <td>धर्म को हथियार बनाने का प्रयास बताया है,</td>\n",
       "    </tr>\n",
       "  </tbody>\n",
       "</table>\n",
       "</div>"
      ],
      "text/plain": [
       "                                                title source_link  \\\n",
       "3   ममता बनर्जी ने क्‍यों बुलाया इमाम सम्‍मेलन? मु...         NaN   \n",
       "8   बिहार चुनाव नजदीक आ रहा है, लेकिन नीतीश कुमार ...         NaN   \n",
       "34  धर्म को हथियार बनाकर... निशिकांत दुबे के बयान ...         NaN   \n",
       "\n",
       "                                      article_content bias_label  \\\n",
       "3   बंगाल में हुई हिंसा पर योगी आदित्यनाथ और ममता ...   unbiased   \n",
       "8   \"25 से 30, फिर से नीतीश\" - ये स्लोगन पटना में ...     biased   \n",
       "34  पूर्व मुख्य चुनाव आयुक्त एस.वाई. कुरैशी ने बीज...     biased   \n",
       "\n",
       "                                      biased_sentence  \n",
       "3                                                 NaN  \n",
       "8   लेकिन, ये दावा हकीकत से मेल नहीं खाता    ,  अब...  \n",
       "34           धर्म को हथियार बनाने का प्रयास बताया है,  "
      ]
     },
     "execution_count": 8,
     "metadata": {},
     "output_type": "execute_result"
    }
   ],
   "source": [
    "df[df[\"source_link\"].isnull()]"
   ]
  },
  {
   "cell_type": "code",
   "execution_count": 9,
   "id": "724233d6",
   "metadata": {},
   "outputs": [
    {
     "name": "stdout",
     "output_type": "stream",
     "text": [
      "['unbiased' 'biased ' 'biased' 'unbaised']\n"
     ]
    }
   ],
   "source": [
    "print(df[\"bias_label\"].unique())\n"
   ]
  },
  {
   "cell_type": "code",
   "execution_count": 10,
   "id": "0fa9e06e",
   "metadata": {},
   "outputs": [],
   "source": [
    "df[\"bias_label\"] = df[\"bias_label\"].map({\"unbiased\": 0,'unbiased ':0, 'unbaised':0, \"biased\": 1, 'biased ':1, })"
   ]
  },
  {
   "cell_type": "code",
   "execution_count": 11,
   "id": "3c1fef55",
   "metadata": {},
   "outputs": [
    {
     "data": {
      "text/html": [
       "<div>\n",
       "<style scoped>\n",
       "    .dataframe tbody tr th:only-of-type {\n",
       "        vertical-align: middle;\n",
       "    }\n",
       "\n",
       "    .dataframe tbody tr th {\n",
       "        vertical-align: top;\n",
       "    }\n",
       "\n",
       "    .dataframe thead th {\n",
       "        text-align: right;\n",
       "    }\n",
       "</style>\n",
       "<table border=\"1\" class=\"dataframe\">\n",
       "  <thead>\n",
       "    <tr style=\"text-align: right;\">\n",
       "      <th></th>\n",
       "      <th>title</th>\n",
       "      <th>source_link</th>\n",
       "      <th>article_content</th>\n",
       "      <th>bias_label</th>\n",
       "      <th>biased_sentence</th>\n",
       "    </tr>\n",
       "  </thead>\n",
       "  <tbody>\n",
       "  </tbody>\n",
       "</table>\n",
       "</div>"
      ],
      "text/plain": [
       "Empty DataFrame\n",
       "Columns: [title, source_link, article_content, bias_label, biased_sentence]\n",
       "Index: []"
      ]
     },
     "execution_count": 11,
     "metadata": {},
     "output_type": "execute_result"
    }
   ],
   "source": [
    "df[~df[\"bias_label\"].isin([0, 1])]\n"
   ]
  },
  {
   "cell_type": "code",
   "execution_count": 12,
   "id": "ef4a13fa",
   "metadata": {},
   "outputs": [],
   "source": [
    "def remove_empty_lines(text):\n",
    "    lines = text.splitlines()\n",
    "    non_empty = [line.strip() for line in lines if line.strip()]\n",
    "    return \" \".join(non_empty)\n"
   ]
  },
  {
   "cell_type": "code",
   "execution_count": 13,
   "id": "98714ffe",
   "metadata": {},
   "outputs": [],
   "source": [
    "df[\"article_content\"] = df[\"article_content\"].apply(remove_empty_lines)"
   ]
  },
  {
   "cell_type": "code",
   "execution_count": 14,
   "id": "c33efbc7",
   "metadata": {},
   "outputs": [
    {
     "data": {
      "text/plain": [
       "0      पश्चिम बंगाल के मुर्शिदाबाद में वक्फ कानून के ...\n",
       "1      बीजेपी नेता मुख्तार अब्बास नकवी ने कहा कि पश्च...\n",
       "2      बिहार चुनाव पर तेजस्वी यादव और मल्लिकार्जुन खड...\n",
       "3      बंगाल में हुई हिंसा पर योगी आदित्यनाथ और ममता ...\n",
       "4      नेशनल हेराल्ड मामले में ईडी द्वारा राहुल गांधी...\n",
       "                             ...                        \n",
       "181    गुजरात के राजकोट शहर में बुधवार को स्थानीय नगर...\n",
       "182    स्पोर्ट्स डेस्क : पंजाब किंग्स ने मुल्लांपुर स...\n",
       "183    वंदे भारत ट्रेन में फोटो खींचने चढ़े एक युवक क...\n",
       "184    मध्य प्रदेश के बुरहानपुर से एक चौंकाने वाली घट...\n",
       "185    भारत में कच्चे तेल की कीमतें लगातार गिर रही है...\n",
       "Name: article_content, Length: 186, dtype: object"
      ]
     },
     "execution_count": 14,
     "metadata": {},
     "output_type": "execute_result"
    }
   ],
   "source": [
    "df[\"article_content\"]"
   ]
  },
  {
   "cell_type": "code",
   "execution_count": 15,
   "id": "8531e54d",
   "metadata": {},
   "outputs": [
    {
     "data": {
      "text/plain": [
       "title              यूपी: न्यायिक आयोग के समक्ष गवाही से पहले संभल...\n",
       "source_link        https://thewirehindi.com/298362/up-police-arre...\n",
       "article_content    नई दिल्ली: संभल में शाही जामा मस्जिद की प्रबंध...\n",
       "bias_label                                                         0\n",
       "biased_sentence                                                  NaN\n",
       "Name: 23, dtype: object"
      ]
     },
     "execution_count": 15,
     "metadata": {},
     "output_type": "execute_result"
    }
   ],
   "source": [
    "df.iloc[23]"
   ]
  },
  {
   "cell_type": "code",
   "execution_count": 16,
   "id": "7dd86e5e",
   "metadata": {},
   "outputs": [],
   "source": [
    "import re\n",
    "\n",
    "url_pattern = r\"http[s]?://\\S+\"\n",
    "\n",
    "has_link = df[\"article_content\"].str.contains(url_pattern, regex=True, na=False)\n",
    "linked_rows = df[has_link]\n",
    "\n"
   ]
  },
  {
   "cell_type": "code",
   "execution_count": 17,
   "id": "7e5931b7",
   "metadata": {},
   "outputs": [
    {
     "data": {
      "text/html": [
       "<div>\n",
       "<style scoped>\n",
       "    .dataframe tbody tr th:only-of-type {\n",
       "        vertical-align: middle;\n",
       "    }\n",
       "\n",
       "    .dataframe tbody tr th {\n",
       "        vertical-align: top;\n",
       "    }\n",
       "\n",
       "    .dataframe thead th {\n",
       "        text-align: right;\n",
       "    }\n",
       "</style>\n",
       "<table border=\"1\" class=\"dataframe\">\n",
       "  <thead>\n",
       "    <tr style=\"text-align: right;\">\n",
       "      <th></th>\n",
       "      <th>title</th>\n",
       "      <th>source_link</th>\n",
       "      <th>article_content</th>\n",
       "      <th>bias_label</th>\n",
       "      <th>biased_sentence</th>\n",
       "    </tr>\n",
       "  </thead>\n",
       "  <tbody>\n",
       "    <tr>\n",
       "      <th>64</th>\n",
       "      <td>BSNL के सिम की होम डिलिवरी शुरू, घर बैठे ऑनलाइ...</td>\n",
       "      <td>https://navbharattimes.indiatimes.com/tech/gad...</td>\n",
       "      <td>BSNL Sim card online: टेलिकॉम ऑपरेटर्स ज्‍यादा...</td>\n",
       "      <td>0</td>\n",
       "      <td>NaN</td>\n",
       "    </tr>\n",
       "    <tr>\n",
       "      <th>134</th>\n",
       "      <td>UPSC Recruitment 2025: अफसर बनने का सुनहरा मौक...</td>\n",
       "      <td>https://www.punjabkesari.in/national/news/gove...</td>\n",
       "      <td>नेशनल डेस्क: अगर आप सरकारी नौकरी की तैयारी कर ...</td>\n",
       "      <td>1</td>\n",
       "      <td>UPSC Recruitment 2025: अफसर बनने का सुनहरा मौक...</td>\n",
       "    </tr>\n",
       "  </tbody>\n",
       "</table>\n",
       "</div>"
      ],
      "text/plain": [
       "                                                 title  \\\n",
       "64   BSNL के सिम की होम डिलिवरी शुरू, घर बैठे ऑनलाइ...   \n",
       "134  UPSC Recruitment 2025: अफसर बनने का सुनहरा मौक...   \n",
       "\n",
       "                                           source_link  \\\n",
       "64   https://navbharattimes.indiatimes.com/tech/gad...   \n",
       "134  https://www.punjabkesari.in/national/news/gove...   \n",
       "\n",
       "                                       article_content  bias_label  \\\n",
       "64   BSNL Sim card online: टेलिकॉम ऑपरेटर्स ज्‍यादा...           0   \n",
       "134  नेशनल डेस्क: अगर आप सरकारी नौकरी की तैयारी कर ...           1   \n",
       "\n",
       "                                       biased_sentence  \n",
       "64                                                 NaN  \n",
       "134  UPSC Recruitment 2025: अफसर बनने का सुनहरा मौक...  "
      ]
     },
     "execution_count": 17,
     "metadata": {},
     "output_type": "execute_result"
    }
   ],
   "source": [
    "linked_rows"
   ]
  },
  {
   "cell_type": "code",
   "execution_count": 18,
   "id": "421c1626",
   "metadata": {},
   "outputs": [
    {
     "data": {
      "text/html": [
       "<div>\n",
       "<style scoped>\n",
       "    .dataframe tbody tr th:only-of-type {\n",
       "        vertical-align: middle;\n",
       "    }\n",
       "\n",
       "    .dataframe tbody tr th {\n",
       "        vertical-align: top;\n",
       "    }\n",
       "\n",
       "    .dataframe thead th {\n",
       "        text-align: right;\n",
       "    }\n",
       "</style>\n",
       "<table border=\"1\" class=\"dataframe\">\n",
       "  <thead>\n",
       "    <tr style=\"text-align: right;\">\n",
       "      <th></th>\n",
       "      <th>title</th>\n",
       "      <th>source_link</th>\n",
       "      <th>article_content</th>\n",
       "      <th>bias_label</th>\n",
       "      <th>biased_sentence</th>\n",
       "    </tr>\n",
       "  </thead>\n",
       "  <tbody>\n",
       "    <tr>\n",
       "      <th>0</th>\n",
       "      <td>ममता बनर्जी की TMC मुस्लिम वोटों पर कितना निर्...</td>\n",
       "      <td>https://www.aajtak.in/west-bengal/story/mamata...</td>\n",
       "      <td>पश्चिम बंगाल के मुर्शिदाबाद में वक्फ कानून के ...</td>\n",
       "      <td>0</td>\n",
       "      <td>NaN</td>\n",
       "    </tr>\n",
       "    <tr>\n",
       "      <th>1</th>\n",
       "      <td>'कुनबे के करप्शन को क्रांत‍ि का तमगा देने की ल...</td>\n",
       "      <td>https://www.aajtak.in/india/news/video/mukhtar...</td>\n",
       "      <td>बीजेपी नेता मुख्तार अब्बास नकवी ने कहा कि पश्च...</td>\n",
       "      <td>0</td>\n",
       "      <td>NaN</td>\n",
       "    </tr>\n",
       "    <tr>\n",
       "      <th>2</th>\n",
       "      <td>राहुल गांधी फिर गुजरात में, AAP ने भी कसी कमर ...</td>\n",
       "      <td>https://www.aajtak.in/opinion-analysis-/story/...</td>\n",
       "      <td>बिहार चुनाव पर तेजस्वी यादव और मल्लिकार्जुन खड...</td>\n",
       "      <td>0</td>\n",
       "      <td>NaN</td>\n",
       "    </tr>\n",
       "    <tr>\n",
       "      <th>3</th>\n",
       "      <td>ममता बनर्जी ने क्‍यों बुलाया इमाम सम्‍मेलन? मु...</td>\n",
       "      <td>NaN</td>\n",
       "      <td>बंगाल में हुई हिंसा पर योगी आदित्यनाथ और ममता ...</td>\n",
       "      <td>0</td>\n",
       "      <td>NaN</td>\n",
       "    </tr>\n",
       "    <tr>\n",
       "      <th>4</th>\n",
       "      <td>कांग्रेस का ईडी और बीजेपी के खिलाफ देशव्यापी प...</td>\n",
       "      <td>https://www.aajtak.in/india/news/video/nationw...</td>\n",
       "      <td>नेशनल हेराल्ड मामले में ईडी द्वारा राहुल गांधी...</td>\n",
       "      <td>1</td>\n",
       "      <td>ममता बनर्जी स्पष्ट रूप से हिल गई हैं. जब उन्ह...</td>\n",
       "    </tr>\n",
       "    <tr>\n",
       "      <th>...</th>\n",
       "      <td>...</td>\n",
       "      <td>...</td>\n",
       "      <td>...</td>\n",
       "      <td>...</td>\n",
       "      <td>...</td>\n",
       "    </tr>\n",
       "    <tr>\n",
       "      <th>181</th>\n",
       "      <td>तेज रफ्तार बस ने कई लोगों को कुचला, 4 की मौत.....</td>\n",
       "      <td>https://www.punjabkesari.in/national/news/a-sp...</td>\n",
       "      <td>गुजरात के राजकोट शहर में बुधवार को स्थानीय नगर...</td>\n",
       "      <td>0</td>\n",
       "      <td>NaN</td>\n",
       "    </tr>\n",
       "    <tr>\n",
       "      <th>182</th>\n",
       "      <td>IPL 2025 Points Table : पंजाब किंग्स ने KKR पर...</td>\n",
       "      <td>https://sports.punjabkesari.in/sports/news/pun...</td>\n",
       "      <td>स्पोर्ट्स डेस्क : पंजाब किंग्स ने मुल्लांपुर स...</td>\n",
       "      <td>0</td>\n",
       "      <td>NaN</td>\n",
       "    </tr>\n",
       "    <tr>\n",
       "      <th>183</th>\n",
       "      <td>वंदे भारत में सेल्फी लेने चढ़ा युवक और ट्रेन क...</td>\n",
       "      <td>https://mp.punjabkesari.in/national/news/a-you...</td>\n",
       "      <td>वंदे भारत ट्रेन में फोटो खींचने चढ़े एक युवक क...</td>\n",
       "      <td>0</td>\n",
       "      <td>NaN</td>\n",
       "    </tr>\n",
       "    <tr>\n",
       "      <th>184</th>\n",
       "      <td>नई नवेली दुल्हन ने दूल्हे का बेरहमी से किया कत...</td>\n",
       "      <td>https://www.punjabkesari.in/national/news/the-...</td>\n",
       "      <td>मध्य प्रदेश के बुरहानपुर से एक चौंकाने वाली घट...</td>\n",
       "      <td>0</td>\n",
       "      <td>NaN</td>\n",
       "    </tr>\n",
       "    <tr>\n",
       "      <th>185</th>\n",
       "      <td>Petrol Price Cut: सस्ता होगा पेट्रोल-डीजल! कच्...</td>\n",
       "      <td>https://www.punjabkesari.in/national/news/pric...</td>\n",
       "      <td>भारत में कच्चे तेल की कीमतें लगातार गिर रही है...</td>\n",
       "      <td>0</td>\n",
       "      <td>NaN</td>\n",
       "    </tr>\n",
       "  </tbody>\n",
       "</table>\n",
       "<p>186 rows × 5 columns</p>\n",
       "</div>"
      ],
      "text/plain": [
       "                                                 title  \\\n",
       "0    ममता बनर्जी की TMC मुस्लिम वोटों पर कितना निर्...   \n",
       "1    'कुनबे के करप्शन को क्रांत‍ि का तमगा देने की ल...   \n",
       "2    राहुल गांधी फिर गुजरात में, AAP ने भी कसी कमर ...   \n",
       "3    ममता बनर्जी ने क्‍यों बुलाया इमाम सम्‍मेलन? मु...   \n",
       "4    कांग्रेस का ईडी और बीजेपी के खिलाफ देशव्यापी प...   \n",
       "..                                                 ...   \n",
       "181  तेज रफ्तार बस ने कई लोगों को कुचला, 4 की मौत.....   \n",
       "182  IPL 2025 Points Table : पंजाब किंग्स ने KKR पर...   \n",
       "183  वंदे भारत में सेल्फी लेने चढ़ा युवक और ट्रेन क...   \n",
       "184  नई नवेली दुल्हन ने दूल्हे का बेरहमी से किया कत...   \n",
       "185  Petrol Price Cut: सस्ता होगा पेट्रोल-डीजल! कच्...   \n",
       "\n",
       "                                           source_link  \\\n",
       "0    https://www.aajtak.in/west-bengal/story/mamata...   \n",
       "1    https://www.aajtak.in/india/news/video/mukhtar...   \n",
       "2    https://www.aajtak.in/opinion-analysis-/story/...   \n",
       "3                                                  NaN   \n",
       "4    https://www.aajtak.in/india/news/video/nationw...   \n",
       "..                                                 ...   \n",
       "181  https://www.punjabkesari.in/national/news/a-sp...   \n",
       "182  https://sports.punjabkesari.in/sports/news/pun...   \n",
       "183  https://mp.punjabkesari.in/national/news/a-you...   \n",
       "184  https://www.punjabkesari.in/national/news/the-...   \n",
       "185  https://www.punjabkesari.in/national/news/pric...   \n",
       "\n",
       "                                       article_content  bias_label  \\\n",
       "0    पश्चिम बंगाल के मुर्शिदाबाद में वक्फ कानून के ...           0   \n",
       "1    बीजेपी नेता मुख्तार अब्बास नकवी ने कहा कि पश्च...           0   \n",
       "2    बिहार चुनाव पर तेजस्वी यादव और मल्लिकार्जुन खड...           0   \n",
       "3    बंगाल में हुई हिंसा पर योगी आदित्यनाथ और ममता ...           0   \n",
       "4    नेशनल हेराल्ड मामले में ईडी द्वारा राहुल गांधी...           1   \n",
       "..                                                 ...         ...   \n",
       "181  गुजरात के राजकोट शहर में बुधवार को स्थानीय नगर...           0   \n",
       "182  स्पोर्ट्स डेस्क : पंजाब किंग्स ने मुल्लांपुर स...           0   \n",
       "183  वंदे भारत ट्रेन में फोटो खींचने चढ़े एक युवक क...           0   \n",
       "184  मध्य प्रदेश के बुरहानपुर से एक चौंकाने वाली घट...           0   \n",
       "185  भारत में कच्चे तेल की कीमतें लगातार गिर रही है...           0   \n",
       "\n",
       "                                       biased_sentence  \n",
       "0                                                  NaN  \n",
       "1                                                  NaN  \n",
       "2                                                  NaN  \n",
       "3                                                  NaN  \n",
       "4     ममता बनर्जी स्पष्ट रूप से हिल गई हैं. जब उन्ह...  \n",
       "..                                                 ...  \n",
       "181                                                NaN  \n",
       "182                                                NaN  \n",
       "183                                                NaN  \n",
       "184                                                NaN  \n",
       "185                                                NaN  \n",
       "\n",
       "[186 rows x 5 columns]"
      ]
     },
     "execution_count": 18,
     "metadata": {},
     "output_type": "execute_result"
    }
   ],
   "source": [
    "df"
   ]
  },
  {
   "cell_type": "code",
   "execution_count": 19,
   "id": "c67ea6ad",
   "metadata": {},
   "outputs": [
    {
     "name": "stdout",
     "output_type": "stream",
     "text": [
      "दिल्ली वालों के लिए घर खरीदने का सुनहरा मौका एक बार फिर सामने है – वो भी बेहद कम कीमत पर! अगर आप लंबे समय से अपने खुद के घर की तलाश में हैं और बजट कम होने की वजह से हर बार पीछे हट जाते हैं, तो अब रुकिए मत! दिल्ली विकास प्राधिकरण (DDA) की ‘सबका घर... नेशनल डेस्क: दिल्ली वालों के लिए घर खरीदने का सुनहरा मौका एक बार फिर सामने है – वो भी बेहद कम कीमत पर, अगर आप लंबे समय से अपने खुद के घर की तलाश में हैं और बजट कम होने की वजह से हर बार पीछे हट जाते हैं, तो अब रुकिए मत। दरअसल, दिल्ली विकास प्राधिकरण (DDA) की ‘सबका घर आवास योजना 2025’ अब और भी किफायती हो गई है। रजिस्ट्रेशन की डेडलाइन बढ़ी, अब 30 अप्रैल तक मौका! DDA ने घर खरीदारों को बड़ी राहत देते हुए इस स्कीम की रजिस्ट्रेशन डेडलाइन 30 अप्रैल 2025 तक बढ़ा दी है। यानी आपके पास अब भी मौका है कि आप रजिस्ट्रेशन कर एक शानदार घर के मालिक बन सकते हैं। कीमतों में सीधी 25% की कटौती – अब सिर्फ ₹13.30 लाख से शुरू इस योजना की सबसे बड़ी खासियत ये है कि डीडीए ने एलआईजी (Low Income Group) फ्लैट्स की कीमतों में सीधा 25% डिस्काउंट दे दिया है। सिरसपुर में स्थित फ्लैट्स अब मात्र ₹13.30 लाख से ₹13.55 लाख में मिल रहे हैं, जबकि पहले ये ₹17.71 लाख तक पहुंचते थे। लोकनायकपुरम के फ्लैट्स की कीमतें भी ₹28.47 लाख से घटकर अब ₹20.20 लाख से ₹21.40 लाख रह गई हैं। कहां मिल रहे हैं इतने सस्ते घर? सिरसपुर: रोहिणी, बुराड़ी और खेड़ा कलां जैसे इलाकों के पास, येलो लाइन मेट्रो से कनेक्टेड। लोकनायकपुरम: टिकरी, नांगलोई, नजफगढ़ के पास, ग्रीन लाइन मेट्रो से जुड़ा इलाका। दोनों जगहों की कनेक्टिविटी और आसपास की मूलभूत सुविधाएं दिल्ली के आम नागरिकों के लिए इस स्कीम को और भी आकर्षक बना रही हैं। 'श्रमिक आवास योजना' की डेडलाइन भी बढ़ी सिर्फ ‘सबका घर योजना’ ही नहीं, बल्कि 'श्रमिक आवास योजना 2025' के तहत भी घर खरीदने का मौका अब 30 अप्रैल तक खुला रहेगा।\n"
     ]
    }
   ],
   "source": [
    "print(df[\"article_content\"].iloc[179])\n"
   ]
  },
  {
   "cell_type": "code",
   "execution_count": 20,
   "id": "dd1c063c",
   "metadata": {},
   "outputs": [
    {
     "name": "stdout",
     "output_type": "stream",
     "text": [
      "                                       article_content\n",
      "24   संसद में विवादास्पद वक़्फ़ अधिनियम के पारित हो...\n",
      "46   IPL Points Table: आईपीएल 2025 में हर मैच के सा...\n",
      "63   नई दिल्ली: सोमवार को शेयर मार्केट में काफी तेज...\n",
      "64   BSNL Sim card online: टेलिकॉम ऑपरेटर्स ज्‍यादा...\n",
      "81   दिल्ली में उग्रसेन की बावली हो या पुराना किला,...\n",
      "117  Vaishali Crime News: बिहार के वैशाली जिले में ...\n",
      "126  धनतेरस पर खरीदारी करने की परंपरा और मान्यता दो...\n",
      "153  इन सुरंगों में से भारत की सबसे लंबी सुरंग टी–5...\n",
      "167  गर्मी के दिनों में चिलचिलाती धूप और गर्म हवा स...\n",
      "173  कार्तिक माह के कृष्ण पक्ष की अष्टमी तिथि पर अह...\n",
      "179  दिल्ली वालों के लिए घर खरीदने का सुनहरा मौका ए...\n"
     ]
    }
   ],
   "source": [
    "import re\n",
    "\n",
    "def has_english_sentence(text):\n",
    "    # Looks for 4 or more consecutive English words\n",
    "    return bool(re.search(r'\\b(?:[a-zA-Z]+\\s+){2,}[a-zA-Z]+\\b', text))\n",
    "df[\"has_english_sentence\"] = df[\"article_content\"].apply(has_english_sentence)\n",
    "english_articles = df[df[\"has_english_sentence\"]]\n",
    "print(english_articles[[\"article_content\"]])\n"
   ]
  },
  {
   "cell_type": "code",
   "execution_count": 21,
   "id": "6b1c840a",
   "metadata": {},
   "outputs": [],
   "source": [
    "df.to_csv(\"pro1mediaBiasv2.csv\")"
   ]
  },
  {
   "cell_type": "code",
   "execution_count": 23,
   "id": "a5990e11",
   "metadata": {},
   "outputs": [],
   "source": [
    "xyz = pd.read_csv(\"pro1mediaBiasv2.csv\")\n"
   ]
  },
  {
   "cell_type": "code",
   "execution_count": 24,
   "id": "e85261b2",
   "metadata": {},
   "outputs": [
    {
     "data": {
      "text/html": [
       "<div>\n",
       "<style scoped>\n",
       "    .dataframe tbody tr th:only-of-type {\n",
       "        vertical-align: middle;\n",
       "    }\n",
       "\n",
       "    .dataframe tbody tr th {\n",
       "        vertical-align: top;\n",
       "    }\n",
       "\n",
       "    .dataframe thead th {\n",
       "        text-align: right;\n",
       "    }\n",
       "</style>\n",
       "<table border=\"1\" class=\"dataframe\">\n",
       "  <thead>\n",
       "    <tr style=\"text-align: right;\">\n",
       "      <th></th>\n",
       "      <th>Unnamed: 0</th>\n",
       "      <th>bias_label</th>\n",
       "    </tr>\n",
       "  </thead>\n",
       "  <tbody>\n",
       "    <tr>\n",
       "      <th>count</th>\n",
       "      <td>186.000000</td>\n",
       "      <td>186.000000</td>\n",
       "    </tr>\n",
       "    <tr>\n",
       "      <th>mean</th>\n",
       "      <td>92.500000</td>\n",
       "      <td>0.177419</td>\n",
       "    </tr>\n",
       "    <tr>\n",
       "      <th>std</th>\n",
       "      <td>53.837719</td>\n",
       "      <td>0.383054</td>\n",
       "    </tr>\n",
       "    <tr>\n",
       "      <th>min</th>\n",
       "      <td>0.000000</td>\n",
       "      <td>0.000000</td>\n",
       "    </tr>\n",
       "    <tr>\n",
       "      <th>25%</th>\n",
       "      <td>46.250000</td>\n",
       "      <td>0.000000</td>\n",
       "    </tr>\n",
       "    <tr>\n",
       "      <th>50%</th>\n",
       "      <td>92.500000</td>\n",
       "      <td>0.000000</td>\n",
       "    </tr>\n",
       "    <tr>\n",
       "      <th>75%</th>\n",
       "      <td>138.750000</td>\n",
       "      <td>0.000000</td>\n",
       "    </tr>\n",
       "    <tr>\n",
       "      <th>max</th>\n",
       "      <td>185.000000</td>\n",
       "      <td>1.000000</td>\n",
       "    </tr>\n",
       "  </tbody>\n",
       "</table>\n",
       "</div>"
      ],
      "text/plain": [
       "       Unnamed: 0  bias_label\n",
       "count  186.000000  186.000000\n",
       "mean    92.500000    0.177419\n",
       "std     53.837719    0.383054\n",
       "min      0.000000    0.000000\n",
       "25%     46.250000    0.000000\n",
       "50%     92.500000    0.000000\n",
       "75%    138.750000    0.000000\n",
       "max    185.000000    1.000000"
      ]
     },
     "execution_count": 24,
     "metadata": {},
     "output_type": "execute_result"
    }
   ],
   "source": [
    "xyz.describe()"
   ]
  },
  {
   "cell_type": "code",
   "execution_count": null,
   "id": "3eb94f2e",
   "metadata": {},
   "outputs": [],
   "source": []
  }
 ],
 "metadata": {
  "kernelspec": {
   "display_name": "base",
   "language": "python",
   "name": "python3"
  },
  "language_info": {
   "codemirror_mode": {
    "name": "ipython",
    "version": 3
   },
   "file_extension": ".py",
   "mimetype": "text/x-python",
   "name": "python",
   "nbconvert_exporter": "python",
   "pygments_lexer": "ipython3",
   "version": "3.11.5"
  }
 },
 "nbformat": 4,
 "nbformat_minor": 5
}
